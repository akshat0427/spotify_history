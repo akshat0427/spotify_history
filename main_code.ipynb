{
 "cells": [
  {
   "cell_type": "code",
   "execution_count": 91,
   "id": "fa5fd0bf-9f7f-4a48-bbac-3a40ad44c57a",
   "metadata": {},
   "outputs": [],
   "source": [
    "import json\n",
    "import pandas\n",
    "import matplotlib.pyplot as plt\n"
   ]
  },
  {
   "cell_type": "code",
   "execution_count": 2,
   "id": "d218fce2-06c5-4956-8e44-f3c69cfdb045",
   "metadata": {},
   "outputs": [],
   "source": [
    "\n",
    "\n",
    "## *REQUIRED DATA FOR THIS PROJECT* ##"
   ]
  },
  {
   "cell_type": "code",
   "execution_count": 68,
   "id": "9a6a4e8e-dbc3-47d3-9d49-f68080c9e985",
   "metadata": {},
   "outputs": [],
   "source": [
    "\n",
    "f = open('final.json', encoding='utf-8')  # spotify streaming history/data\n",
    " \n",
    "data = json.load(f)"
   ]
  },
  {
   "cell_type": "code",
   "execution_count": null,
   "id": "9705e5d1-5035-4893-b5dd-c6fae9d88d16",
   "metadata": {},
   "outputs": [],
   "source": []
  },
  {
   "cell_type": "code",
   "execution_count": 41,
   "id": "69d54328-c2df-4123-93aa-60c7b731243b",
   "metadata": {},
   "outputs": [],
   "source": [
    "t= [f\"0{i}\" for i in range(1,10)]"
   ]
  },
  {
   "cell_type": "code",
   "execution_count": 73,
   "id": "06f66b46-9d1f-4127-874d-9f60e152001d",
   "metadata": {},
   "outputs": [],
   "source": [
    "data"
   ]
  },
  {
   "cell_type": "code",
   "execution_count": 71,
   "id": "df948445-cbc8-4f69-9e55-b5eb6a4948fe",
   "metadata": {},
   "outputs": [],
   "source": [
    "# # format - yy/mm/dd\n",
    "\n",
    "# for i in range(100):\n",
    "#     print(\"month\", data[i]['endTime'].split(\" \")[0].split('-')[1])\n",
    "#     # print(\"year\", data[i]['endTime'].split(\" \")[0].split('-')[0])\n",
    "    "
   ]
  },
  {
   "cell_type": "code",
   "execution_count": 74,
   "id": "f042faf0-2d60-4c13-a5c2-727b0f63a2a5",
   "metadata": {},
   "outputs": [],
   "source": [
    "## CONVERTING JSON DATA TO PANDAS DATAFRAME\n",
    "\n",
    "df = pandas.DataFrame()\n",
    "data_for_that_dataframe = [[],[],[],[],[]]\n",
    "for i in range(0, len(data)):\n",
    "    \n",
    "    \n",
    "    \n",
    "    data_for_that_dataframe[0].append(data[i]['artistName'])\n",
    "    data_for_that_dataframe[1].append(data[i]['trackName'])\n",
    "    data_for_that_dataframe[2].append((int((data[i]['msPlayed'])/1000) %60))\n",
    "    data_for_that_dataframe[3].append(data[i]['endTime'].split(\" \")[0].split('-')[1])\n",
    "    data_for_that_dataframe[4].append(data[i]['endTime'].split(\" \")[0].split('-')[0])\n",
    "    \n",
    "    \n",
    "    \n",
    "    # df['artist_name'] = \n",
    "    # df['song_name'] = data[i]['trackName']\n",
    "    # df['seconds_playes'] = (int((data[i]['msPlayed'])/1000) %60)\n",
    "    \n",
    "    # milliseconds/1000)%60)\n",
    "\n",
    "df['artist_name'] = data_for_that_dataframe[0]\n",
    "df['song_name'] = data_for_that_dataframe[1]\n",
    "df['duration_played'] = data_for_that_dataframe[2]  # the data in duration played is in minutes\n",
    "\n",
    "df['month'] = data_for_that_dataframe[3]\n",
    "df['year'] = data_for_that_dataframe[4]\n",
    "\n",
    "\n",
    "\n"
   ]
  },
  {
   "cell_type": "code",
   "execution_count": 88,
   "id": "e1eabc5b-9201-4e4e-a201-a2695dc1ac5e",
   "metadata": {},
   "outputs": [],
   "source": [
    "df_2023 = df[df['year'] == \"2023\"]"
   ]
  },
  {
   "cell_type": "code",
   "execution_count": null,
   "id": "714fb7ad-5544-48e7-91df-5c22d9a590fc",
   "metadata": {},
   "outputs": [],
   "source": [
    "\n",
    "\n"
   ]
  },
  {
   "cell_type": "code",
   "execution_count": 140,
   "id": "c281e48e-7eba-456c-9e2c-9a3b1e825041",
   "metadata": {},
   "outputs": [],
   "source": [
    "# FINDING OUT THE MOST PLAYED SONG/SONGS\n",
    "\n",
    "\n",
    "\n",
    "fig = plt.figure(figsize = (25,15))\n",
    "plt.bar(data_to_plot.keys(), data_to_plot.values(), color='blue', width=0.7)\n",
    "plt.show()\n",
    "# plt.plot(data_to_plot)"
   ]
  },
  {
   "cell_type": "code",
   "execution_count": 96,
   "id": "29b4aab8-5bd7-4219-a213-26d9dbf124de",
   "metadata": {},
   "outputs": [],
   "source": [
    "\n",
    "\n",
    "data_to_plot = df['song_name'].value_counts()"
   ]
  },
  {
   "cell_type": "code",
   "execution_count": 97,
   "id": "0589091c-9aa9-4278-a208-f51afed90587",
   "metadata": {},
   "outputs": [],
   "source": [
    "\n",
    "data_to_plot = data_to_plot[0:10]"
   ]
  },
  {
   "cell_type": "code",
   "execution_count": 98,
   "id": "8c42df89-bc4a-46b5-b6a0-6bc91ee3cbf0",
   "metadata": {},
   "outputs": [],
   "source": [
    "\n",
    "data_to_plot = data_to_plot.to_dict()"
   ]
  },
  {
   "cell_type": "code",
   "execution_count": null,
   "id": "fc4b1cb8-5cf4-4a23-aa57-d4d3daa6e17a",
   "metadata": {},
   "outputs": [],
   "source": [
    "\n"
   ]
  },
  {
   "cell_type": "code",
   "execution_count": 102,
   "id": "f3ce13d3-f785-4a4e-9689-259ed2a1be85",
   "metadata": {},
   "outputs": [
    {
     "data": {
      "text/plain": [
       "184"
      ]
     },
     "execution_count": 102,
     "metadata": {},
     "output_type": "execute_result"
    }
   ],
   "source": [
    "# verifying accuracy\n",
    "\n",
    "\n",
    "\n",
    "len(df[df['song_name']=='As It Was'])"
   ]
  },
  {
   "cell_type": "code",
   "execution_count": 103,
   "id": "d78439a0-5a77-476e-9009-21f50b891d10",
   "metadata": {},
   "outputs": [],
   "source": [
    "# finding out the least played song \n",
    "\n",
    "\n",
    "df['song_name'].value_counts().to_dict()  # the fact that it goes ascending to descending means that the song at the bottom would be the \"least played\"\n",
    "\n",
    "\n",
    "\n",
    "least_played_song = list(df['song_name'].value_counts().to_dict())[-1]\n"
   ]
  },
  {
   "cell_type": "code",
   "execution_count": 104,
   "id": "ee17f7af-6ec6-4c11-8543-37566d0d5e01",
   "metadata": {},
   "outputs": [
    {
     "data": {
      "text/plain": [
       "'Raataan Lambiyan (From \"Shershaah\")'"
      ]
     },
     "execution_count": 104,
     "metadata": {},
     "output_type": "execute_result"
    }
   ],
   "source": [
    "least_played_song"
   ]
  },
  {
   "cell_type": "code",
   "execution_count": null,
   "id": "dd098032-3609-4842-a423-96a44cb98b26",
   "metadata": {},
   "outputs": [],
   "source": []
  },
  {
   "cell_type": "code",
   "execution_count": null,
   "id": "1f5b69eb-5ba0-41e9-965d-4fa8aa5aa567",
   "metadata": {},
   "outputs": [],
   "source": []
  },
  {
   "cell_type": "code",
   "execution_count": 21,
   "id": "886b2cd9-7f06-497c-a3f9-3c33bcb0592c",
   "metadata": {},
   "outputs": [],
   "source": [
    "# top songs in each month\n"
   ]
  },
  {
   "cell_type": "code",
   "execution_count": 109,
   "id": "2ddf3c5f-17d4-4789-8abe-7141ebb88744",
   "metadata": {},
   "outputs": [],
   "source": [
    "data_2 = []\n",
    "for i in t:\n",
    "    \n",
    "    data_2.append(df[df['month'] == i]['song_name'].to_list())"
   ]
  },
  {
   "cell_type": "code",
   "execution_count": 122,
   "id": "eaa20689-5c37-4d23-b836-f1e5792c6adf",
   "metadata": {},
   "outputs": [],
   "source": [
    "import pandas as pd"
   ]
  },
  {
   "cell_type": "code",
   "execution_count": 123,
   "id": "f9b5d571-b606-4765-bd48-531f76f6f733",
   "metadata": {},
   "outputs": [],
   "source": [
    "# the index starts from february\n",
    "df2 = pd.DataFrame()\n"
   ]
  },
  {
   "cell_type": "code",
   "execution_count": 144,
   "id": "802b7ef2-3682-4619-bd6c-1271b42e7b32",
   "metadata": {},
   "outputs": [],
   "source": [
    "c=-1\n",
    "result = []\n",
    "\n",
    "for i in t:\n",
    "    df2 = pd.DataFrame()\n",
    "    \n",
    "    \n",
    "    c+=1\n",
    "    # print(c, i)\n",
    "    \n",
    "    \n",
    "    df2[f'song {i}'] = data_2[c]\n",
    "    \n",
    "    result.append(df2[f'song {i}'].value_counts()[0:5].to_dict())\n",
    "    del df2\n"
   ]
  },
  {
   "cell_type": "code",
   "execution_count": 143,
   "id": "d973cfa2-01b4-4708-96b5-2e9d4cc886f5",
   "metadata": {},
   "outputs": [],
   "source": [
    "result"
   ]
  },
  {
   "cell_type": "code",
   "execution_count": null,
   "id": "d24047b6-18a0-498f-bd98-851cf211de8c",
   "metadata": {},
   "outputs": [],
   "source": []
  }
 ],
 "metadata": {
  "kernelspec": {
   "display_name": "Python 3 (ipykernel)",
   "language": "python",
   "name": "python3"
  },
  "language_info": {
   "codemirror_mode": {
    "name": "ipython",
    "version": 3
   },
   "file_extension": ".py",
   "mimetype": "text/x-python",
   "name": "python",
   "nbconvert_exporter": "python",
   "pygments_lexer": "ipython3",
   "version": "3.12.3"
  }
 },
 "nbformat": 4,
 "nbformat_minor": 5
}
